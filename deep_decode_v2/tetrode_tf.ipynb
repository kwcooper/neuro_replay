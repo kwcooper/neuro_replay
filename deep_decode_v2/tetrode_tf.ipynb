{
 "cells": [
  {
   "cell_type": "code",
   "execution_count": 0,
   "metadata": {
    "colab": {},
    "colab_type": "code",
    "id": "q-apVybt2ltJ"
   },
   "outputs": [],
   "source": [
    "import numpy as np\n",
    "from sklearn.model_selection import StratifiedKFold\n",
    "from keras.models import Model\n",
    "from keras.layers import Dense, Dropout, Flatten, Input, Concatenate, Convolution2D, AveragePooling2D\n",
    "from keras.optimizers import SGD, Adam\n",
    "from keras.callbacks import ModelCheckpoint\n",
    "from keras.models import load_model"
   ]
  },
  {
   "cell_type": "code",
   "execution_count": 32,
   "metadata": {
    "colab": {
     "base_uri": "https://localhost:8080/",
     "height": 124
    },
    "colab_type": "code",
    "executionInfo": {
     "elapsed": 19315,
     "status": "ok",
     "timestamp": 1576202251808,
     "user": {
      "displayName": "Lingge Li",
      "photoUrl": "",
      "userId": "07145896291568200429"
     },
     "user_tz": 480
    },
    "id": "qwVaDVs2-MZx",
    "outputId": "f160caee-610c-4fa8-b07d-cace7f07b6f7"
   },
   "outputs": [
    {
     "name": "stdout",
     "output_type": "stream",
     "text": [
      "Go to this URL in a browser: https://accounts.google.com/o/oauth2/auth?client_id=947318989803-6bn6qk8qdgf4n4g3pfee6491hc0brc4i.apps.googleusercontent.com&redirect_uri=urn%3aietf%3awg%3aoauth%3a2.0%3aoob&response_type=code&scope=email%20https%3a%2f%2fwww.googleapis.com%2fauth%2fdocs.test%20https%3a%2f%2fwww.googleapis.com%2fauth%2fdrive%20https%3a%2f%2fwww.googleapis.com%2fauth%2fdrive.photos.readonly%20https%3a%2f%2fwww.googleapis.com%2fauth%2fpeopleapi.readonly\n",
      "\n",
      "Enter your authorization code:\n",
      "··········\n",
      "Mounted at /content/drive\n"
     ]
    }
   ],
   "source": [
    "from google.colab import drive\n",
    "drive.mount('/content/drive')"
   ]
  },
  {
   "cell_type": "code",
   "execution_count": 0,
   "metadata": {
    "colab": {},
    "colab_type": "code",
    "id": "78zZGOg7-OIF"
   },
   "outputs": [],
   "source": [
    "spike_data_binned = np.load('/content/drive/My Drive/Processed Rat Hippocampus Data/SuperChris/superchris_spike_data_binned.npy')\n",
    "lfp_data_sampled = np.load('/content/drive/My Drive/Processed Rat Hippocampus Data/SuperChris/superchris_lfp_data_sampled.npy')\n",
    "lfp_data_sampled = np.swapaxes(lfp_data_sampled, 1, 2)\n",
    "trial_info = np.load('/content/drive/My Drive/Processed Rat Hippocampus Data/SuperChris/superchris_trial_info.npy')"
   ]
  },
  {
   "cell_type": "code",
   "execution_count": 34,
   "metadata": {
    "colab": {
     "base_uri": "https://localhost:8080/",
     "height": 52
    },
    "colab_type": "code",
    "executionInfo": {
     "elapsed": 947,
     "status": "ok",
     "timestamp": 1576202345325,
     "user": {
      "displayName": "Lingge Li",
      "photoUrl": "",
      "userId": "07145896291568200429"
     },
     "user_tz": 480
    },
    "id": "yb9t7p03-u24",
    "outputId": "51ab33ce-242f-4396-cfcf-f5a0e87faf79"
   },
   "outputs": [
    {
     "name": "stdout",
     "output_type": "stream",
     "text": [
      "(245, 46, 400)\n",
      "(245, 21, 400)\n"
     ]
    }
   ],
   "source": [
    "print(spike_data_binned.shape)\n",
    "print(lfp_data_sampled.shape)"
   ]
  },
  {
   "cell_type": "code",
   "execution_count": 0,
   "metadata": {
    "colab": {},
    "colab_type": "code",
    "id": "wHb4AVzY-yMs"
   },
   "outputs": [],
   "source": [
    "rat_correct = trial_info[:, 0] == 1\n",
    "in_sequence = trial_info[:, 1] == 1\n",
    "not_odor_e = trial_info[:, 3] < 5\n",
    "select = rat_correct & in_sequence & not_odor_e"
   ]
  },
  {
   "cell_type": "code",
   "execution_count": 0,
   "metadata": {
    "colab": {},
    "colab_type": "code",
    "id": "Fb4e2xEo-0Cu"
   },
   "outputs": [],
   "source": [
    "decoding_start = 210\n",
    "decoding_end = decoding_start + 25"
   ]
  },
  {
   "cell_type": "code",
   "execution_count": 0,
   "metadata": {
    "colab": {},
    "colab_type": "code",
    "id": "GF_7UcIxAgye"
   },
   "outputs": [],
   "source": [
    "decoding_data_spike = spike_data_binned[select, :, decoding_start:decoding_end]\n",
    "decoding_data_lfp = lfp_data_sampled[select, :, decoding_start:decoding_end]"
   ]
  },
  {
   "cell_type": "code",
   "execution_count": 0,
   "metadata": {
    "colab": {},
    "colab_type": "code",
    "id": "2apNppGFAjP2"
   },
   "outputs": [],
   "source": [
    "decoding_data_spike = (decoding_data_spike - np.mean(decoding_data_spike)) / np.std(decoding_data_spike)"
   ]
  },
  {
   "cell_type": "code",
   "execution_count": 0,
   "metadata": {
    "colab": {},
    "colab_type": "code",
    "id": "DDjwMoUXAjTs"
   },
   "outputs": [],
   "source": [
    "from keras.utils import np_utils"
   ]
  },
  {
   "cell_type": "code",
   "execution_count": 0,
   "metadata": {
    "colab": {},
    "colab_type": "code",
    "id": "M8J8Lz9oAjWQ"
   },
   "outputs": [],
   "source": [
    "decoding_target = np_utils.to_categorical((trial_info[select, 3] - 1).astype(int))"
   ]
  },
  {
   "cell_type": "code",
   "execution_count": 0,
   "metadata": {
    "colab": {},
    "colab_type": "code",
    "id": "LnyiEK4x2wFf"
   },
   "outputs": [],
   "source": [
    "def build_tetrode_model(tetrode_ids, tetrode_units):\n",
    "    \"\"\"\n",
    "    Build tetrode convolutional neural network model for odor decoding.\n",
    "    :param tetrode_ids: (list) of tetrode ids in the order of LFP data\n",
    "    :param tetrode_units: (dict) number of neuron units on each tetrode\n",
    "    :return: (keras) compiled decoding model\n",
    "    \"\"\"\n",
    "    input_tetrodes = valid_tetrodes(tetrode_ids, tetrode_units)\n",
    "\n",
    "    input_layers = []\n",
    "    for t in input_tetrodes:\n",
    "        k = tetrode_units[t]\n",
    "        input_layers.append(Input(shape=(k + 1, 25, 1)))\n",
    "\n",
    "    convolution_layers = []\n",
    "    for i, input_layer in enumerate(input_layers):\n",
    "        t = input_tetrodes[i]\n",
    "        k = tetrode_units[t]\n",
    "        convolution_layers.append(Convolution2D(5, k + 1, 1, activation='relu')(input_layer))\n",
    "\n",
    "    combo = Concatenate(axis=-1)(convolution_layers)\n",
    "    pooling = AveragePooling2D(pool_size=(1, 25))(combo)\n",
    "\n",
    "    x = Flatten()(pooling)\n",
    "    x = Dense(10, activation='relu')(x)\n",
    "    x = Dropout(p=0.1)(x)\n",
    "\n",
    "    prediction = Dense(4, activation='softmax')(x)\n",
    "\n",
    "    model = Model(input_layers, prediction)\n",
    "    model.compile(loss='categorical_crossentropy', optimizer=Adam(), metrics=['accuracy'])\n",
    "\n",
    "    return model"
   ]
  },
  {
   "cell_type": "code",
   "execution_count": 0,
   "metadata": {
    "colab": {},
    "colab_type": "code",
    "id": "dNbSWGLt3Dsz"
   },
   "outputs": [],
   "source": [
    "tetrode_ids = [1, 10, 12, 13, 14, 15, 16, 18, 19, 2, 20, 21, 22, 23, 3, 4, 5, 6, 7, 8, 9]\n",
    "tetrode_units = {1:3, 10:0, 12:1, 13:8, 14:4, 15:6, 16:1, 18:0, 19:4, 2:3,\n",
    "                20:0, 21:1, 22:5, 23:7, 3:0, 4:0, 5:0, 6:0, 7:1, 8:1, 9:1}"
   ]
  },
  {
   "cell_type": "code",
   "execution_count": 0,
   "metadata": {
    "colab": {},
    "colab_type": "code",
    "id": "plLFgtZB3URj"
   },
   "outputs": [],
   "source": [
    "def valid_tetrodes(tetrode_ids, tetrode_units):\n",
    "    \"\"\"\n",
    "    Only keep valid tetrodes with neuron units so that there is corresponding spike train data.\n",
    "    :param tetrode_ids: (list) of tetrode ids in the order of LFP data\n",
    "    :param tetrode_units: (dict) number of neuron units on each tetrode\n",
    "    :return: (list) of tetrode ids with neuron units\n",
    "    \"\"\"\n",
    "    return [x for x in tetrode_ids if tetrode_units[x] > 0]"
   ]
  },
  {
   "cell_type": "code",
   "execution_count": 30,
   "metadata": {
    "colab": {
     "base_uri": "https://localhost:8080/",
     "height": 176
    },
    "colab_type": "code",
    "executionInfo": {
     "elapsed": 1173,
     "status": "ok",
     "timestamp": 1576200964951,
     "user": {
      "displayName": "Lingge Li",
      "photoUrl": "",
      "userId": "07145896291568200429"
     },
     "user_tz": 480
    },
    "id": "3Cyca9523LVa",
    "outputId": "79b15054-9240-4da2-ed77-fdc6b690caa0"
   },
   "outputs": [
    {
     "name": "stderr",
     "output_type": "stream",
     "text": [
      "/usr/local/lib/python3.6/dist-packages/ipykernel_launcher.py:19: UserWarning: Update your `Conv2D` call to the Keras 2 API: `Conv2D(5, (4, 1), activation=\"relu\")`\n",
      "/usr/local/lib/python3.6/dist-packages/ipykernel_launcher.py:19: UserWarning: Update your `Conv2D` call to the Keras 2 API: `Conv2D(5, (2, 1), activation=\"relu\")`\n",
      "/usr/local/lib/python3.6/dist-packages/ipykernel_launcher.py:19: UserWarning: Update your `Conv2D` call to the Keras 2 API: `Conv2D(5, (9, 1), activation=\"relu\")`\n",
      "/usr/local/lib/python3.6/dist-packages/ipykernel_launcher.py:19: UserWarning: Update your `Conv2D` call to the Keras 2 API: `Conv2D(5, (5, 1), activation=\"relu\")`\n",
      "/usr/local/lib/python3.6/dist-packages/ipykernel_launcher.py:19: UserWarning: Update your `Conv2D` call to the Keras 2 API: `Conv2D(5, (7, 1), activation=\"relu\")`\n",
      "/usr/local/lib/python3.6/dist-packages/ipykernel_launcher.py:19: UserWarning: Update your `Conv2D` call to the Keras 2 API: `Conv2D(5, (6, 1), activation=\"relu\")`\n",
      "/usr/local/lib/python3.6/dist-packages/ipykernel_launcher.py:19: UserWarning: Update your `Conv2D` call to the Keras 2 API: `Conv2D(5, (8, 1), activation=\"relu\")`\n",
      "/usr/local/lib/python3.6/dist-packages/ipykernel_launcher.py:26: UserWarning: Update your `Dropout` call to the Keras 2 API: `Dropout(rate=0.1)`\n"
     ]
    }
   ],
   "source": [
    "model = build_tetrode_model(tetrode_ids, tetrode_units)"
   ]
  },
  {
   "cell_type": "code",
   "execution_count": 31,
   "metadata": {
    "colab": {
     "base_uri": "https://localhost:8080/",
     "height": 1000
    },
    "colab_type": "code",
    "executionInfo": {
     "elapsed": 426,
     "status": "ok",
     "timestamp": 1576200966170,
     "user": {
      "displayName": "Lingge Li",
      "photoUrl": "",
      "userId": "07145896291568200429"
     },
     "user_tz": 480
    },
    "id": "0M6_SXXB3OlW",
    "outputId": "69eb65d3-2b83-433f-d762-96f2b882aa23"
   },
   "outputs": [
    {
     "name": "stdout",
     "output_type": "stream",
     "text": [
      "Model: \"model_2\"\n",
      "__________________________________________________________________________________________________\n",
      "Layer (type)                    Output Shape         Param #     Connected to                     \n",
      "==================================================================================================\n",
      "input_71 (InputLayer)           (None, 4, 25, 1)     0                                            \n",
      "__________________________________________________________________________________________________\n",
      "input_72 (InputLayer)           (None, 2, 25, 1)     0                                            \n",
      "__________________________________________________________________________________________________\n",
      "input_73 (InputLayer)           (None, 9, 25, 1)     0                                            \n",
      "__________________________________________________________________________________________________\n",
      "input_74 (InputLayer)           (None, 5, 25, 1)     0                                            \n",
      "__________________________________________________________________________________________________\n",
      "input_75 (InputLayer)           (None, 7, 25, 1)     0                                            \n",
      "__________________________________________________________________________________________________\n",
      "input_76 (InputLayer)           (None, 2, 25, 1)     0                                            \n",
      "__________________________________________________________________________________________________\n",
      "input_77 (InputLayer)           (None, 5, 25, 1)     0                                            \n",
      "__________________________________________________________________________________________________\n",
      "input_78 (InputLayer)           (None, 4, 25, 1)     0                                            \n",
      "__________________________________________________________________________________________________\n",
      "input_79 (InputLayer)           (None, 2, 25, 1)     0                                            \n",
      "__________________________________________________________________________________________________\n",
      "input_80 (InputLayer)           (None, 6, 25, 1)     0                                            \n",
      "__________________________________________________________________________________________________\n",
      "input_81 (InputLayer)           (None, 8, 25, 1)     0                                            \n",
      "__________________________________________________________________________________________________\n",
      "input_82 (InputLayer)           (None, 2, 25, 1)     0                                            \n",
      "__________________________________________________________________________________________________\n",
      "input_83 (InputLayer)           (None, 2, 25, 1)     0                                            \n",
      "__________________________________________________________________________________________________\n",
      "input_84 (InputLayer)           (None, 2, 25, 1)     0                                            \n",
      "__________________________________________________________________________________________________\n",
      "conv2d_58 (Conv2D)              (None, 1, 25, 5)     25          input_71[0][0]                   \n",
      "__________________________________________________________________________________________________\n",
      "conv2d_59 (Conv2D)              (None, 1, 25, 5)     15          input_72[0][0]                   \n",
      "__________________________________________________________________________________________________\n",
      "conv2d_60 (Conv2D)              (None, 1, 25, 5)     50          input_73[0][0]                   \n",
      "__________________________________________________________________________________________________\n",
      "conv2d_61 (Conv2D)              (None, 1, 25, 5)     30          input_74[0][0]                   \n",
      "__________________________________________________________________________________________________\n",
      "conv2d_62 (Conv2D)              (None, 1, 25, 5)     40          input_75[0][0]                   \n",
      "__________________________________________________________________________________________________\n",
      "conv2d_63 (Conv2D)              (None, 1, 25, 5)     15          input_76[0][0]                   \n",
      "__________________________________________________________________________________________________\n",
      "conv2d_64 (Conv2D)              (None, 1, 25, 5)     30          input_77[0][0]                   \n",
      "__________________________________________________________________________________________________\n",
      "conv2d_65 (Conv2D)              (None, 1, 25, 5)     25          input_78[0][0]                   \n",
      "__________________________________________________________________________________________________\n",
      "conv2d_66 (Conv2D)              (None, 1, 25, 5)     15          input_79[0][0]                   \n",
      "__________________________________________________________________________________________________\n",
      "conv2d_67 (Conv2D)              (None, 1, 25, 5)     35          input_80[0][0]                   \n",
      "__________________________________________________________________________________________________\n",
      "conv2d_68 (Conv2D)              (None, 1, 25, 5)     45          input_81[0][0]                   \n",
      "__________________________________________________________________________________________________\n",
      "conv2d_69 (Conv2D)              (None, 1, 25, 5)     15          input_82[0][0]                   \n",
      "__________________________________________________________________________________________________\n",
      "conv2d_70 (Conv2D)              (None, 1, 25, 5)     15          input_83[0][0]                   \n",
      "__________________________________________________________________________________________________\n",
      "conv2d_71 (Conv2D)              (None, 1, 25, 5)     15          input_84[0][0]                   \n",
      "__________________________________________________________________________________________________\n",
      "concatenate_2 (Concatenate)     (None, 1, 25, 70)    0           conv2d_58[0][0]                  \n",
      "                                                                 conv2d_59[0][0]                  \n",
      "                                                                 conv2d_60[0][0]                  \n",
      "                                                                 conv2d_61[0][0]                  \n",
      "                                                                 conv2d_62[0][0]                  \n",
      "                                                                 conv2d_63[0][0]                  \n",
      "                                                                 conv2d_64[0][0]                  \n",
      "                                                                 conv2d_65[0][0]                  \n",
      "                                                                 conv2d_66[0][0]                  \n",
      "                                                                 conv2d_67[0][0]                  \n",
      "                                                                 conv2d_68[0][0]                  \n",
      "                                                                 conv2d_69[0][0]                  \n",
      "                                                                 conv2d_70[0][0]                  \n",
      "                                                                 conv2d_71[0][0]                  \n",
      "__________________________________________________________________________________________________\n",
      "average_pooling2d_2 (AveragePoo (None, 1, 1, 70)     0           concatenate_2[0][0]              \n",
      "__________________________________________________________________________________________________\n",
      "flatten_2 (Flatten)             (None, 70)           0           average_pooling2d_2[0][0]        \n",
      "__________________________________________________________________________________________________\n",
      "dense_3 (Dense)                 (None, 10)           710         flatten_2[0][0]                  \n",
      "__________________________________________________________________________________________________\n",
      "dropout_2 (Dropout)             (None, 10)           0           dense_3[0][0]                    \n",
      "__________________________________________________________________________________________________\n",
      "dense_4 (Dense)                 (None, 4)            44          dropout_2[0][0]                  \n",
      "==================================================================================================\n",
      "Total params: 1,124\n",
      "Trainable params: 1,124\n",
      "Non-trainable params: 0\n",
      "__________________________________________________________________________________________________\n"
     ]
    }
   ],
   "source": [
    "model.summary()"
   ]
  },
  {
   "cell_type": "code",
   "execution_count": 0,
   "metadata": {
    "colab": {},
    "colab_type": "code",
    "id": "LDYwPgsx4anJ"
   },
   "outputs": [],
   "source": [
    "def organize_tetrode(spike_data, lfp_data, tetrode_ids, tetrode_units, verbose=True):\n",
    "    \"\"\"\n",
    "    Organize spike and LFP data by tetrode.\n",
    "    :param spike_data: (3d numpy array) spike train data of format [trial, neuron, time]\n",
    "    :param lfp_data: (3d numpy array ) LFP data of format [trial, tetrode, time]\n",
    "    :param tetrode_ids: (list) of tetrode ids in the order of LFP data\n",
    "    :param tetrode_units: (dict) number of neuron units on each tetrode\n",
    "    :param verbose: (bool) whether to print each tetrode data shape\n",
    "    :return: (list of 4d numpy arrays) each of format [trial, 1, neuron + tetrode, time]\n",
    "    \"\"\"\n",
    "    all_tetrode_data = []\n",
    "    i = 0\n",
    "\n",
    "    for j, t in enumerate(tetrode_ids):\n",
    "        k = tetrode_units[t]\n",
    "        if k == 0:\n",
    "            continue\n",
    "\n",
    "        tetrode_lfp = np.expand_dims(lfp_data[:, j, :], axis=1)\n",
    "        tetrode_spike = spike_data[:, i:(i + k), :]\n",
    "        if len(tetrode_spike.shape) == 2:\n",
    "            tetrode_spike = np.expand_dims(tetrode_spike, axis=1)\n",
    "\n",
    "        tetrode_data = np.concatenate([tetrode_lfp, tetrode_spike], axis=1)\n",
    "        tetrode_data = np.expand_dims(tetrode_data, axis=-1)\n",
    "\n",
    "        all_tetrode_data.append(tetrode_data)\n",
    "\n",
    "        if verbose:\n",
    "            print('Current tetrode {t} with {k} neurons/units'.format(t=t, k=k))\n",
    "            print(tetrode_data.shape)\n",
    "\n",
    "        i += k\n",
    "    return all_tetrode_data"
   ]
  },
  {
   "cell_type": "code",
   "execution_count": 43,
   "metadata": {
    "colab": {
     "base_uri": "https://localhost:8080/",
     "height": 503
    },
    "colab_type": "code",
    "executionInfo": {
     "elapsed": 1021,
     "status": "ok",
     "timestamp": 1576202910271,
     "user": {
      "displayName": "Lingge Li",
      "photoUrl": "",
      "userId": "07145896291568200429"
     },
     "user_tz": 480
    },
    "id": "nbnyp3rCA3vg",
    "outputId": "ce52ff43-eadc-4e71-fa2c-52da787b64e6"
   },
   "outputs": [
    {
     "name": "stdout",
     "output_type": "stream",
     "text": [
      "Current tetrode 1 with 3 neurons/units\n",
      "(168, 4, 25, 1)\n",
      "Current tetrode 12 with 1 neurons/units\n",
      "(168, 2, 25, 1)\n",
      "Current tetrode 13 with 8 neurons/units\n",
      "(168, 9, 25, 1)\n",
      "Current tetrode 14 with 4 neurons/units\n",
      "(168, 5, 25, 1)\n",
      "Current tetrode 15 with 6 neurons/units\n",
      "(168, 7, 25, 1)\n",
      "Current tetrode 16 with 1 neurons/units\n",
      "(168, 2, 25, 1)\n",
      "Current tetrode 19 with 4 neurons/units\n",
      "(168, 5, 25, 1)\n",
      "Current tetrode 2 with 3 neurons/units\n",
      "(168, 4, 25, 1)\n",
      "Current tetrode 21 with 1 neurons/units\n",
      "(168, 2, 25, 1)\n",
      "Current tetrode 22 with 5 neurons/units\n",
      "(168, 6, 25, 1)\n",
      "Current tetrode 23 with 7 neurons/units\n",
      "(168, 8, 25, 1)\n",
      "Current tetrode 7 with 1 neurons/units\n",
      "(168, 2, 25, 1)\n",
      "Current tetrode 8 with 1 neurons/units\n",
      "(168, 2, 25, 1)\n",
      "Current tetrode 9 with 1 neurons/units\n",
      "(168, 2, 25, 1)\n"
     ]
    }
   ],
   "source": [
    "tetrode_data = organize_tetrode(decoding_data_spike, decoding_data_lfp, tetrode_ids, tetrode_units)"
   ]
  },
  {
   "cell_type": "code",
   "execution_count": 0,
   "metadata": {
    "colab": {},
    "colab_type": "code",
    "id": "OvkxxOQABAFn"
   },
   "outputs": [],
   "source": [
    "def cross_validate(all_tetrode_data, target, tetrode_ids, tetrode_units, verbose=True):\n",
    "    \"\"\"\n",
    "    Perform cross-validation with tetrode convolutional neural network model.\n",
    "    :param all_tetrode_data: (list of 4d numpy arrays) each of format [trial, 1, neuron + tetrode, time]\n",
    "    :param tetrode_ids: (list) of tetrode ids in the order of LFP data\n",
    "    :param tetrode_units: (dict) number of neuron units on each tetrode\n",
    "    :param target: (2d numpy array) classification labels\n",
    "    :param verbose: (bool) whether to print each validation fold accuracy\n",
    "    :return: (2d numpy array) true and predicted labels\n",
    "    \"\"\"\n",
    "    kf = StratifiedKFold(n_splits=5)\n",
    "    y_true = np.zeros(target.shape)\n",
    "    y_hat = np.zeros(target.shape)\n",
    "    i = 0\n",
    "\n",
    "    for train_index, test_index in kf.split(np.zeros(target.shape[0]), target.argmax(axis=-1)):\n",
    "        X_train, X_test = select_data(all_tetrode_data, train_index), select_data(all_tetrode_data, test_index)\n",
    "        y_train, y_test = target[train_index, :], target[test_index, :]\n",
    "\n",
    "        model = build_tetrode_model(tetrode_ids, tetrode_units)\n",
    "        checkpointer = ModelCheckpoint('temp_model.h5',\n",
    "                                       verbose=0, save_best_only=True)\n",
    "        hist = model.fit(X_train, y_train,\n",
    "                         nb_epoch=200, batch_size=20,\n",
    "                         validation_data=(X_test, y_test),\n",
    "                         callbacks=[checkpointer], verbose=0)\n",
    "        best_model = load_model('temp_model.h5')\n",
    "\n",
    "        n = y_test.shape[0]\n",
    "        y_true[i:(i + n), :] = y_test\n",
    "        y_hat[i:(i + n), :] = best_model.predict(X_test)\n",
    "        i += n\n",
    "\n",
    "        if verbose:\n",
    "            accuracy = max(hist.history['val_acc'])\n",
    "            print('Current fold validation accuracy: {acc}'.format(acc=accuracy))\n",
    "\n",
    "    return y_true, y_hat"
   ]
  },
  {
   "cell_type": "code",
   "execution_count": 0,
   "metadata": {
    "colab": {},
    "colab_type": "code",
    "id": "YPLZ_MvLCm0m"
   },
   "outputs": [],
   "source": [
    "def select_data(all_tetrode_data, index):\n",
    "    \"\"\"\n",
    "    Select tetrode data by trial indices.\n",
    "    :param all_tetrode_data: (list of 4d numpy arrays) each of format [trial, 1, neuron + tetrode, time]\n",
    "    :param index: (1d numpy array) trial indices\n",
    "    :return: (list of 4d numpy arrays) selected subset of tetrode data\n",
    "    \"\"\"\n",
    "    current_data = []\n",
    "    for x in all_tetrode_data:\n",
    "        current_data.append(x[index, :, :, :])\n",
    "    return current_data"
   ]
  },
  {
   "cell_type": "code",
   "execution_count": 53,
   "metadata": {
    "colab": {
     "base_uri": "https://localhost:8080/",
     "height": 1000
    },
    "colab_type": "code",
    "executionInfo": {
     "elapsed": 170759,
     "status": "ok",
     "timestamp": 1576203524362,
     "user": {
      "displayName": "Lingge Li",
      "photoUrl": "",
      "userId": "07145896291568200429"
     },
     "user_tz": 480
    },
    "id": "NefwokUbA7U_",
    "outputId": "529c9093-8907-4af4-aba2-0a546d55046e"
   },
   "outputs": [
    {
     "name": "stderr",
     "output_type": "stream",
     "text": [
      "/usr/local/lib/python3.6/dist-packages/ipykernel_launcher.py:19: UserWarning: Update your `Conv2D` call to the Keras 2 API: `Conv2D(5, (4, 1), activation=\"relu\")`\n",
      "/usr/local/lib/python3.6/dist-packages/ipykernel_launcher.py:19: UserWarning: Update your `Conv2D` call to the Keras 2 API: `Conv2D(5, (2, 1), activation=\"relu\")`\n",
      "/usr/local/lib/python3.6/dist-packages/ipykernel_launcher.py:19: UserWarning: Update your `Conv2D` call to the Keras 2 API: `Conv2D(5, (9, 1), activation=\"relu\")`\n",
      "/usr/local/lib/python3.6/dist-packages/ipykernel_launcher.py:19: UserWarning: Update your `Conv2D` call to the Keras 2 API: `Conv2D(5, (5, 1), activation=\"relu\")`\n",
      "/usr/local/lib/python3.6/dist-packages/ipykernel_launcher.py:19: UserWarning: Update your `Conv2D` call to the Keras 2 API: `Conv2D(5, (7, 1), activation=\"relu\")`\n",
      "/usr/local/lib/python3.6/dist-packages/ipykernel_launcher.py:19: UserWarning: Update your `Conv2D` call to the Keras 2 API: `Conv2D(5, (6, 1), activation=\"relu\")`\n",
      "/usr/local/lib/python3.6/dist-packages/ipykernel_launcher.py:19: UserWarning: Update your `Conv2D` call to the Keras 2 API: `Conv2D(5, (8, 1), activation=\"relu\")`\n",
      "/usr/local/lib/python3.6/dist-packages/ipykernel_launcher.py:26: UserWarning: Update your `Dropout` call to the Keras 2 API: `Dropout(rate=0.1)`\n"
     ]
    },
    {
     "name": "stdout",
     "output_type": "stream",
     "text": [
      "WARNING:tensorflow:From /usr/local/lib/python3.6/dist-packages/tensorflow_core/python/ops/math_grad.py:1424: where (from tensorflow.python.ops.array_ops) is deprecated and will be removed in a future version.\n",
      "Instructions for updating:\n",
      "Use tf.where in 2.0, which has the same broadcast rule as np.where\n"
     ]
    },
    {
     "name": "stderr",
     "output_type": "stream",
     "text": [
      "/usr/local/lib/python3.6/dist-packages/ipykernel_launcher.py:26: UserWarning: The `nb_epoch` argument in `fit` has been renamed `epochs`.\n"
     ]
    },
    {
     "name": "stdout",
     "output_type": "stream",
     "text": [
      "WARNING:tensorflow:From /usr/local/lib/python3.6/dist-packages/keras/backend/tensorflow_backend.py:1033: The name tf.assign_add is deprecated. Please use tf.compat.v1.assign_add instead.\n",
      "\n",
      "WARNING:tensorflow:From /usr/local/lib/python3.6/dist-packages/keras/backend/tensorflow_backend.py:1020: The name tf.assign is deprecated. Please use tf.compat.v1.assign instead.\n",
      "\n",
      "WARNING:tensorflow:From /usr/local/lib/python3.6/dist-packages/keras/backend/tensorflow_backend.py:3005: The name tf.Session is deprecated. Please use tf.compat.v1.Session instead.\n",
      "\n",
      "WARNING:tensorflow:From /usr/local/lib/python3.6/dist-packages/keras/backend/tensorflow_backend.py:190: The name tf.get_default_session is deprecated. Please use tf.compat.v1.get_default_session instead.\n",
      "\n",
      "WARNING:tensorflow:From /usr/local/lib/python3.6/dist-packages/keras/backend/tensorflow_backend.py:197: The name tf.ConfigProto is deprecated. Please use tf.compat.v1.ConfigProto instead.\n",
      "\n",
      "WARNING:tensorflow:From /usr/local/lib/python3.6/dist-packages/keras/backend/tensorflow_backend.py:207: The name tf.global_variables is deprecated. Please use tf.compat.v1.global_variables instead.\n",
      "\n",
      "WARNING:tensorflow:From /usr/local/lib/python3.6/dist-packages/keras/backend/tensorflow_backend.py:216: The name tf.is_variable_initialized is deprecated. Please use tf.compat.v1.is_variable_initialized instead.\n",
      "\n",
      "WARNING:tensorflow:From /usr/local/lib/python3.6/dist-packages/keras/backend/tensorflow_backend.py:223: The name tf.variables_initializer is deprecated. Please use tf.compat.v1.variables_initializer instead.\n",
      "\n",
      "Current fold validation accuracy: 0.7777777910232544\n"
     ]
    },
    {
     "name": "stderr",
     "output_type": "stream",
     "text": [
      "/usr/local/lib/python3.6/dist-packages/ipykernel_launcher.py:19: UserWarning: Update your `Conv2D` call to the Keras 2 API: `Conv2D(5, (4, 1), activation=\"relu\")`\n",
      "/usr/local/lib/python3.6/dist-packages/ipykernel_launcher.py:19: UserWarning: Update your `Conv2D` call to the Keras 2 API: `Conv2D(5, (2, 1), activation=\"relu\")`\n",
      "/usr/local/lib/python3.6/dist-packages/ipykernel_launcher.py:19: UserWarning: Update your `Conv2D` call to the Keras 2 API: `Conv2D(5, (9, 1), activation=\"relu\")`\n",
      "/usr/local/lib/python3.6/dist-packages/ipykernel_launcher.py:19: UserWarning: Update your `Conv2D` call to the Keras 2 API: `Conv2D(5, (5, 1), activation=\"relu\")`\n",
      "/usr/local/lib/python3.6/dist-packages/ipykernel_launcher.py:19: UserWarning: Update your `Conv2D` call to the Keras 2 API: `Conv2D(5, (7, 1), activation=\"relu\")`\n",
      "/usr/local/lib/python3.6/dist-packages/ipykernel_launcher.py:19: UserWarning: Update your `Conv2D` call to the Keras 2 API: `Conv2D(5, (6, 1), activation=\"relu\")`\n",
      "/usr/local/lib/python3.6/dist-packages/ipykernel_launcher.py:19: UserWarning: Update your `Conv2D` call to the Keras 2 API: `Conv2D(5, (8, 1), activation=\"relu\")`\n",
      "/usr/local/lib/python3.6/dist-packages/ipykernel_launcher.py:26: UserWarning: Update your `Dropout` call to the Keras 2 API: `Dropout(rate=0.1)`\n",
      "/usr/local/lib/python3.6/dist-packages/ipykernel_launcher.py:26: UserWarning: The `nb_epoch` argument in `fit` has been renamed `epochs`.\n"
     ]
    },
    {
     "name": "stdout",
     "output_type": "stream",
     "text": [
      "Current fold validation accuracy: 0.657142869063786\n"
     ]
    },
    {
     "name": "stderr",
     "output_type": "stream",
     "text": [
      "/usr/local/lib/python3.6/dist-packages/ipykernel_launcher.py:19: UserWarning: Update your `Conv2D` call to the Keras 2 API: `Conv2D(5, (4, 1), activation=\"relu\")`\n",
      "/usr/local/lib/python3.6/dist-packages/ipykernel_launcher.py:19: UserWarning: Update your `Conv2D` call to the Keras 2 API: `Conv2D(5, (2, 1), activation=\"relu\")`\n",
      "/usr/local/lib/python3.6/dist-packages/ipykernel_launcher.py:19: UserWarning: Update your `Conv2D` call to the Keras 2 API: `Conv2D(5, (9, 1), activation=\"relu\")`\n",
      "/usr/local/lib/python3.6/dist-packages/ipykernel_launcher.py:19: UserWarning: Update your `Conv2D` call to the Keras 2 API: `Conv2D(5, (5, 1), activation=\"relu\")`\n",
      "/usr/local/lib/python3.6/dist-packages/ipykernel_launcher.py:19: UserWarning: Update your `Conv2D` call to the Keras 2 API: `Conv2D(5, (7, 1), activation=\"relu\")`\n",
      "/usr/local/lib/python3.6/dist-packages/ipykernel_launcher.py:19: UserWarning: Update your `Conv2D` call to the Keras 2 API: `Conv2D(5, (6, 1), activation=\"relu\")`\n",
      "/usr/local/lib/python3.6/dist-packages/ipykernel_launcher.py:19: UserWarning: Update your `Conv2D` call to the Keras 2 API: `Conv2D(5, (8, 1), activation=\"relu\")`\n",
      "/usr/local/lib/python3.6/dist-packages/ipykernel_launcher.py:26: UserWarning: Update your `Dropout` call to the Keras 2 API: `Dropout(rate=0.1)`\n",
      "/usr/local/lib/python3.6/dist-packages/ipykernel_launcher.py:26: UserWarning: The `nb_epoch` argument in `fit` has been renamed `epochs`.\n"
     ]
    },
    {
     "name": "stdout",
     "output_type": "stream",
     "text": [
      "Current fold validation accuracy: 0.7878787824601838\n"
     ]
    },
    {
     "name": "stderr",
     "output_type": "stream",
     "text": [
      "/usr/local/lib/python3.6/dist-packages/ipykernel_launcher.py:19: UserWarning: Update your `Conv2D` call to the Keras 2 API: `Conv2D(5, (4, 1), activation=\"relu\")`\n",
      "/usr/local/lib/python3.6/dist-packages/ipykernel_launcher.py:19: UserWarning: Update your `Conv2D` call to the Keras 2 API: `Conv2D(5, (2, 1), activation=\"relu\")`\n",
      "/usr/local/lib/python3.6/dist-packages/ipykernel_launcher.py:19: UserWarning: Update your `Conv2D` call to the Keras 2 API: `Conv2D(5, (9, 1), activation=\"relu\")`\n",
      "/usr/local/lib/python3.6/dist-packages/ipykernel_launcher.py:19: UserWarning: Update your `Conv2D` call to the Keras 2 API: `Conv2D(5, (5, 1), activation=\"relu\")`\n",
      "/usr/local/lib/python3.6/dist-packages/ipykernel_launcher.py:19: UserWarning: Update your `Conv2D` call to the Keras 2 API: `Conv2D(5, (7, 1), activation=\"relu\")`\n",
      "/usr/local/lib/python3.6/dist-packages/ipykernel_launcher.py:19: UserWarning: Update your `Conv2D` call to the Keras 2 API: `Conv2D(5, (6, 1), activation=\"relu\")`\n",
      "/usr/local/lib/python3.6/dist-packages/ipykernel_launcher.py:19: UserWarning: Update your `Conv2D` call to the Keras 2 API: `Conv2D(5, (8, 1), activation=\"relu\")`\n",
      "/usr/local/lib/python3.6/dist-packages/ipykernel_launcher.py:26: UserWarning: Update your `Dropout` call to the Keras 2 API: `Dropout(rate=0.1)`\n",
      "/usr/local/lib/python3.6/dist-packages/ipykernel_launcher.py:26: UserWarning: The `nb_epoch` argument in `fit` has been renamed `epochs`.\n"
     ]
    },
    {
     "name": "stdout",
     "output_type": "stream",
     "text": [
      "Current fold validation accuracy: 0.7812500074505806\n"
     ]
    },
    {
     "name": "stderr",
     "output_type": "stream",
     "text": [
      "/usr/local/lib/python3.6/dist-packages/ipykernel_launcher.py:19: UserWarning: Update your `Conv2D` call to the Keras 2 API: `Conv2D(5, (4, 1), activation=\"relu\")`\n",
      "/usr/local/lib/python3.6/dist-packages/ipykernel_launcher.py:19: UserWarning: Update your `Conv2D` call to the Keras 2 API: `Conv2D(5, (2, 1), activation=\"relu\")`\n",
      "/usr/local/lib/python3.6/dist-packages/ipykernel_launcher.py:19: UserWarning: Update your `Conv2D` call to the Keras 2 API: `Conv2D(5, (9, 1), activation=\"relu\")`\n",
      "/usr/local/lib/python3.6/dist-packages/ipykernel_launcher.py:19: UserWarning: Update your `Conv2D` call to the Keras 2 API: `Conv2D(5, (5, 1), activation=\"relu\")`\n",
      "/usr/local/lib/python3.6/dist-packages/ipykernel_launcher.py:19: UserWarning: Update your `Conv2D` call to the Keras 2 API: `Conv2D(5, (7, 1), activation=\"relu\")`\n",
      "/usr/local/lib/python3.6/dist-packages/ipykernel_launcher.py:19: UserWarning: Update your `Conv2D` call to the Keras 2 API: `Conv2D(5, (6, 1), activation=\"relu\")`\n",
      "/usr/local/lib/python3.6/dist-packages/ipykernel_launcher.py:19: UserWarning: Update your `Conv2D` call to the Keras 2 API: `Conv2D(5, (8, 1), activation=\"relu\")`\n",
      "/usr/local/lib/python3.6/dist-packages/ipykernel_launcher.py:26: UserWarning: Update your `Dropout` call to the Keras 2 API: `Dropout(rate=0.1)`\n",
      "/usr/local/lib/python3.6/dist-packages/ipykernel_launcher.py:26: UserWarning: The `nb_epoch` argument in `fit` has been renamed `epochs`.\n"
     ]
    },
    {
     "name": "stdout",
     "output_type": "stream",
     "text": [
      "Current fold validation accuracy: 0.8749999776482582\n"
     ]
    }
   ],
   "source": [
    "y_true, y_hat = cross_validate(tetrode_data, decoding_target, tetrode_ids, tetrode_units)"
   ]
  },
  {
   "cell_type": "code",
   "execution_count": 0,
   "metadata": {
    "colab": {},
    "colab_type": "code",
    "id": "UGBfAOFoBGqk"
   },
   "outputs": [],
   "source": []
  }
 ],
 "metadata": {
  "colab": {
   "collapsed_sections": [],
   "name": "tetrode_tf.ipynb",
   "provenance": []
  },
  "kernelspec": {
   "display_name": "Python 3",
   "language": "python",
   "name": "python3"
  },
  "language_info": {
   "codemirror_mode": {
    "name": "ipython",
    "version": 3
   },
   "file_extension": ".py",
   "mimetype": "text/x-python",
   "name": "python",
   "nbconvert_exporter": "python",
   "pygments_lexer": "ipython3",
   "version": "3.7.6"
  }
 },
 "nbformat": 4,
 "nbformat_minor": 1
}
